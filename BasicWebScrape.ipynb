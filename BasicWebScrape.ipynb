{
 "cells": [
  {
   "cell_type": "markdown",
   "id": "75444ff7",
   "metadata": {},
   "source": [
    "# Basic Amazon Webscrapper\n",
    "\n",
    "Created to learn some basic webscraping and data manipulation into a csv\n"
   ]
  },
  {
   "cell_type": "markdown",
   "id": "d07998a7",
   "metadata": {},
   "source": [
    "## Imports\n"
   ]
  },
  {
   "cell_type": "code",
   "execution_count": 32,
   "metadata": {},
   "outputs": [],
   "source": [
    "from bs4 import BeautifulSoup\n",
    "import requests\n",
    "import time\n",
    "import datetime\n",
    "import csv\n",
    "import pandas as pd\n",
    "from os.path import exists as file_exists\n",
    "\n",
    "import smtplib  # to send emails to yourself\n"
   ]
  },
  {
   "cell_type": "markdown",
   "id": "0ce4bdf8",
   "metadata": {},
   "source": [
    "## Setup for Requests\n"
   ]
  },
  {
   "cell_type": "code",
   "execution_count": 33,
   "id": "10cbee63",
   "metadata": {},
   "outputs": [],
   "source": [
    "url = \"https://www.amazon.com/Ergonomic-Adjustable-Headrest-Backrest-Executive/dp/B093PYJF1W/\"\n",
    "headers = {\n",
    "    \"User-Agent\": \"Mozilla/5.0 (Windows NT 10.0; Win64; x64) AppleWebKit/537.36 (KHTML, like Gecko) Chrome/98.0.4758.81 Safari/537.36\"\n",
    "}"
   ]
  },
  {
   "cell_type": "markdown",
   "id": "292ab154",
   "metadata": {},
   "source": [
    "## Scrape for Title and Price\n"
   ]
  },
  {
   "cell_type": "code",
   "execution_count": 46,
   "id": "40f1fa01",
   "metadata": {},
   "outputs": [
    {
     "name": "stdout",
     "output_type": "stream",
     "text": [
      "Mastery Mart Ergonomic Office Chair, High Back Mesh Desk Chair with Adjustable Headrest and Backrest, Lumbar Support, Thick Seat Cushion, Swivel Executive Task Computer Chair for Work, Home, Gaming\n",
      "199.99\n"
     ]
    }
   ],
   "source": [
    "page = requests.get(url, headers=headers)\n",
    "soup1 = BeautifulSoup(page.content, \"html.parser\").prettify()\n",
    "soup2 = BeautifulSoup(soup1, \"html.parser\")\n",
    "\n",
    "title = soup2.find(id=\"productTitle\").get_text().strip()\n",
    "price = soup2.find(\"span\", \"a-offscreen\").get_text().strip()[1:]\n",
    "\n",
    "print(title)\n",
    "print(price)\n"
   ]
  },
  {
   "cell_type": "markdown",
   "id": "b0611c69",
   "metadata": {},
   "source": [
    "## Create CSV\n"
   ]
  },
  {
   "cell_type": "code",
   "execution_count": 47,
   "id": "15a5a9c1",
   "metadata": {},
   "outputs": [
    {
     "data": {
      "text/html": [
       "<div>\n",
       "<style scoped>\n",
       "    .dataframe tbody tr th:only-of-type {\n",
       "        vertical-align: middle;\n",
       "    }\n",
       "\n",
       "    .dataframe tbody tr th {\n",
       "        vertical-align: top;\n",
       "    }\n",
       "\n",
       "    .dataframe thead th {\n",
       "        text-align: right;\n",
       "    }\n",
       "</style>\n",
       "<table border=\"1\" class=\"dataframe\">\n",
       "  <thead>\n",
       "    <tr style=\"text-align: right;\">\n",
       "      <th></th>\n",
       "      <th>Title</th>\n",
       "      <th>Price</th>\n",
       "      <th>Date</th>\n",
       "    </tr>\n",
       "  </thead>\n",
       "  <tbody>\n",
       "    <tr>\n",
       "      <th>0</th>\n",
       "      <td>Mastery Mart Ergonomic Office Chair, High Back...</td>\n",
       "      <td>199.99</td>\n",
       "      <td>2022-02-09</td>\n",
       "    </tr>\n",
       "  </tbody>\n",
       "</table>\n",
       "</div>"
      ],
      "text/plain": [
       "                                               Title   Price        Date\n",
       "0  Mastery Mart Ergonomic Office Chair, High Back...  199.99  2022-02-09"
      ]
     },
     "execution_count": 47,
     "metadata": {},
     "output_type": "execute_result"
    }
   ],
   "source": [
    "file_headers = [\"Title\", \"Price\", \"Date\"]\n",
    "\n",
    "data = [title, price, datetime.date.today()]\n",
    "\n",
    "with open(\"BasicWebScrapeDataset1.csv\", \"w\", newline=\"\", encoding=\"UTF8\") as f:\n",
    "    writer = csv.writer(f)\n",
    "    writer.writerow(file_headers)\n",
    "    writer.writerow(data)\n",
    "\n",
    "df = pd.read_csv(\"BasicWebScrapeDataset1.csv\")\n",
    "df.head()"
   ]
  },
  {
   "cell_type": "markdown",
   "id": "c0c439f1",
   "metadata": {},
   "source": [
    "## Append Data\n"
   ]
  },
  {
   "cell_type": "code",
   "execution_count": 48,
   "id": "45dda357",
   "metadata": {},
   "outputs": [],
   "source": [
    "with open(\"BasicWebScrapeDataset1.csv\", \"a+\", newline=\"\", encoding=\"UTF8\") as f:\n",
    "    writer = csv.writer(f)\n",
    "    writer.writerow(data)"
   ]
  },
  {
   "cell_type": "markdown",
   "id": "490c1d80",
   "metadata": {},
   "source": [
    "## Check Price Function\n",
    "Everything from above, but condensed into two functions. One that will create a file, and another that will append to the file"
   ]
  },
  {
   "cell_type": "code",
   "execution_count": 50,
   "id": "95530c24",
   "metadata": {},
   "outputs": [],
   "source": [
    "url = \"https://www.amazon.com/dp/B0014C2PZG\"\n",
    "headers = {\n",
    "    \"User-Agent\": \"Mozilla/5.0 (Windows NT 10.0; Win64; x64) AppleWebKit/537.36 (KHTML, like Gecko) Chrome/98.0.4758.81 Safari/537.36\"\n",
    "}\n",
    "filename = 'BasicWebScrapeDataset2.csv'\n",
    "\n",
    "def check_price_new():\n",
    "    page = requests.get(url, headers=headers)\n",
    "    \n",
    "    soup1 = BeautifulSoup(page.content, 'html.parser').prettify()\n",
    "    soup2 = BeautifulSoup(soup1, 'html.parser')\n",
    "\n",
    "    title = soup2.find(id = 'productTitle').get_text().strip()\n",
    "    price = soup2.find('span', 'a-offscreen').get_text().strip()[1:]\n",
    "\n",
    "    file_headers = ['Title', 'Price', 'Date']\n",
    "    data = [title, price, datetime.date.today()]\n",
    "        \n",
    "    with open(filename, 'w', newline='', encoding='UTF8') as f:\n",
    "        writer = csv.writer(f)\n",
    "        writer.writerow(file_headers)\n",
    "        writer.writerow(data)\n",
    "        \n",
    "        \n",
    "def check_price_append():\n",
    "    page = requests.get(url, headers=headers)\n",
    "    \n",
    "    soup1 = BeautifulSoup(page.content, 'html.parser').prettify()\n",
    "    soup2 = BeautifulSoup(soup1, 'html.parser')\n",
    "\n",
    "    title = soup2.find(id = 'productTitle').get_text().strip()\n",
    "    price = soup2.find('span', 'a-offscreen').get_text().strip()[1:]\n",
    "\n",
    "    data = [title, price, datetime.date.today()]\n",
    "        \n",
    "    with open(filename, 'a+', newline='', encoding='UTF8') as f:\n",
    "        writer = csv.writer(f)\n",
    "        writer.writerow(data)"
   ]
  },
  {
   "cell_type": "code",
   "execution_count": 54,
   "id": "7f120da9",
   "metadata": {},
   "outputs": [],
   "source": [
    "while (True):\n",
    "    if file_exists(filename):\n",
    "        check_price_append()\n",
    "    else:\n",
    "        check_price_new()\n",
    "    time.sleep(1800)"
   ]
  }
 ],
 "metadata": {
  "interpreter": {
   "hash": "1baa965d5efe3ac65b79dfc60c0d706280b1da80fedb7760faf2759126c4f253"
  },
  "kernelspec": {
   "display_name": "Python 3.8.6 64-bit",
   "language": "python",
   "name": "python3"
  },
  "language_info": {
   "codemirror_mode": {
    "name": "ipython",
    "version": 3
   },
   "file_extension": ".py",
   "mimetype": "text/x-python",
   "name": "python",
   "nbconvert_exporter": "python",
   "pygments_lexer": "ipython3",
   "version": "3.8.8"
  }
 },
 "nbformat": 4,
 "nbformat_minor": 5
}
